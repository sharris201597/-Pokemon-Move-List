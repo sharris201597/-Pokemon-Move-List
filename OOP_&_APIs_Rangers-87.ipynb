{
 "cells": [
  {
   "cell_type": "markdown",
   "metadata": {},
   "source": [
    "# Object Oriented Programming 2 - examples and APIs\n"
   ]
  },
  {
   "cell_type": "markdown",
   "metadata": {},
   "source": [
    "## Tasks Today:\n",
    "\n",
    "   \n",
    "\n",
    "1) <b>Shopping Cart Example</b> <br>\n",
    "2) <b>Requests and the pokemon API </b> <br>\n",
    " "
   ]
  },
  {
   "cell_type": "markdown",
   "metadata": {},
   "source": [
    "# Goal \n",
    "### build a shopping cart program with prices and quantities using objects and a dictionary"
   ]
  },
  {
   "cell_type": "code",
   "execution_count": 1,
   "metadata": {},
   "outputs": [],
   "source": [
    "from IPython.display import clear_output as clear\n",
    "# Create a class called cart that retains items and has methods to add, remove, and show\n",
    "\n",
    "class Cart():\n",
    "    def __init__(self):\n",
    "        self.items = {}\n",
    "\n",
    "    def add(self):\n",
    "        clear()\n",
    "        new_item = input(\"What do you want to get?\")\n",
    "        quantity = input(f\"How many {new_item}s do you want?\")\n",
    "        if new_item not in self.items.keys():\n",
    "            self.items[new_item] = quantity\n",
    "        else:\n",
    "            self.items[new_item] += quantity\n",
    "        print(f\"{quantity} {new_item}s have been added to the cart!\")\n",
    "\n",
    "    def remove(self):\n",
    "        clear()\n",
    "        discard = input(\"What would you like to discard?\")\n",
    "        quantity = int(input(f\"How many {discard}s would you like to put back?\"))\n",
    "        try:\n",
    "            self.items[discard] -= quantity\n",
    "            if self.items[discard] <= 0:\n",
    "                del self.items[discard]\n",
    "            print(f\"{quantity} {discard}s have bee removed.\")\n",
    "        except:\n",
    "            print(f\"{discard} was not in your cart.\")\n",
    "            self.show()\n",
    "\n",
    "    def show(self):\n",
    "        print(\"Your cart contains the items below\")\n",
    "        for item,quantity in self.items.items():\n",
    "            print(f\"{item}   |   {quantity}\")\n",
    "\n",
    "\n",
    "    def checkout(self):\n",
    "        clear()\n",
    "        if not self.items:\n",
    "            print(\"Please come back and buy things.\")\n",
    "        else:\n",
    "            print(\"Thanks for shopping!!\")\n",
    "            self.show\n",
    "\n",
    "#control the logic and flow of our program\n",
    "\n",
    "class Main:\n",
    "    def showInstructions(self):\n",
    "        print(\"\"\"\n",
    "        Welcome to the Shopping Program!\n",
    "        Options:\n",
    "        [1] Show the Current Cart\n",
    "        [2] Add Item\n",
    "        [3] Remove Item\n",
    "        [4] Quit\n",
    "        \"\"\")\n",
    "\n",
    "    def run(self):\n",
    "        self.showInstructions()\n",
    "        my_cart = Cart()\n",
    "\n",
    "        while True:\n",
    "            choice = input(\"What would you like to do?\")\n",
    "            if choice == \"1\":\n",
    "                if my_cart.items:\n",
    "                    my_cart.show()\n",
    "                else:\n",
    "                    print(\"Your Cart is Empty...\")\n",
    "            elif choice == '2':\n",
    "                my_cart.add()\n",
    "            elif choice == '3':\n",
    "                if my_cart.items:\n",
    "                    my_cart.remove()\n",
    "                else:\n",
    "                    print(\"Your cart is empty\")\n",
    "            elif choice == '4':\n",
    "                my_cart.checkout()\n",
    "                break\n",
    "            else:\n",
    "                print(\"Not a valid response... Please select an option abouve.\")\n",
    "            "
   ]
  },
  {
   "cell_type": "markdown",
   "metadata": {},
   "source": [
    "# working with APis"
   ]
  },
  {
   "cell_type": "markdown",
   "metadata": {},
   "source": [
    "<p> What exactly is an API? <br> <br>\n",
    "API is the acronym for Application Programming Interface, which is a software intermediary that allows two applications to talk to each other. Each time you use an app like Facebook, send an instant message, or check the weather on your phone, you're using an API. </p>"
   ]
  },
  {
   "cell_type": "markdown",
   "metadata": {},
   "source": [
    "### The Poke API  allows you to retreive a pokemon's information from PokeAPI https://pokeapi.co/\n",
    "\n"
   ]
  },
  {
   "cell_type": "code",
   "execution_count": 2,
   "metadata": {},
   "outputs": [
    {
     "name": "stdout",
     "output_type": "stream",
     "text": [
      "Requirement already satisfied: requests in c:\\users\\14043\\appdata\\local\\programs\\python\\python39\\lib\\site-packages (2.27.1)\n",
      "Requirement already satisfied: charset-normalizer~=2.0.0 in c:\\users\\14043\\appdata\\local\\programs\\python\\python39\\lib\\site-packages (from requests) (2.0.12)\n",
      "Requirement already satisfied: certifi>=2017.4.17 in c:\\users\\14043\\appdata\\local\\programs\\python\\python39\\lib\\site-packages (from requests) (2022.5.18.1)\n",
      "Requirement already satisfied: idna<4,>=2.5 in c:\\users\\14043\\appdata\\local\\programs\\python\\python39\\lib\\site-packages (from requests) (3.3)\n",
      "Requirement already satisfied: urllib3<1.27,>=1.21.1 in c:\\users\\14043\\appdata\\local\\programs\\python\\python39\\lib\\site-packages (from requests) (1.26.9)\n",
      "Note: you may need to restart the kernel to use updated packages.\n"
     ]
    },
    {
     "name": "stderr",
     "output_type": "stream",
     "text": [
      "WARNING: You are using pip version 22.0.4; however, version 22.2 is available.\n",
      "You should consider upgrading via the 'c:\\Users\\14043\\AppData\\Local\\Programs\\Python\\Python39\\python.exe -m pip install --upgrade pip' command.\n"
     ]
    }
   ],
   "source": [
    "pip install requests"
   ]
  },
  {
   "cell_type": "code",
   "execution_count": 3,
   "metadata": {},
   "outputs": [
    {
     "name": "stdout",
     "output_type": "stream",
     "text": [
      "dict_keys(['abilities', 'base_experience', 'forms', 'game_indices', 'height', 'held_items', 'id', 'is_default', 'location_area_encounters', 'moves', 'name', 'order', 'past_types', 'species', 'sprites', 'stats', 'types', 'weight'])\n"
     ]
    }
   ],
   "source": [
    "# making an API call\n",
    "import requests\n",
    "\n",
    "r = requests.get('https://pokeapi.co/api/v2/pokemon/ditto')\n",
    "if r.status_code == 200:\n",
    "    data = r.json()\n",
    "else:\n",
    "    print(f\"Error Status Code: {r.status_code}\")\n",
    "print(data.keys())\n"
   ]
  },
  {
   "cell_type": "markdown",
   "metadata": {},
   "source": [
    "### Display a Pokemon's name, weight, abilities, and types"
   ]
  },
  {
   "cell_type": "code",
   "execution_count": 4,
   "metadata": {},
   "outputs": [
    {
     "name": "stdout",
     "output_type": "stream",
     "text": [
      "ditto\n"
     ]
    }
   ],
   "source": [
    "# get the name\n",
    "name = data[\"name\"]\n",
    "print(name)\n"
   ]
  },
  {
   "cell_type": "code",
   "execution_count": 5,
   "metadata": {},
   "outputs": [
    {
     "name": "stdout",
     "output_type": "stream",
     "text": [
      "['normal']\n"
     ]
    }
   ],
   "source": [
    "# get types\n",
    "types = [pokemon[\"type\"][\"name\"] for pokemon in data['types']]\n",
    "print(types)"
   ]
  },
  {
   "cell_type": "code",
   "execution_count": 6,
   "metadata": {},
   "outputs": [
    {
     "name": "stdout",
     "output_type": "stream",
     "text": [
      "40\n"
     ]
    }
   ],
   "source": [
    "# get weight\n",
    "weight  = data[\"weight\"]\n",
    "print(weight)"
   ]
  },
  {
   "cell_type": "code",
   "execution_count": 7,
   "metadata": {},
   "outputs": [
    {
     "name": "stdout",
     "output_type": "stream",
     "text": [
      "['limber', 'imposter']\n"
     ]
    }
   ],
   "source": [
    "# get abilities\n",
    "abilities = [pokemon['ability'][\"name\"] for pokemon in data[\"abilities\"]]\n",
    "print(abilities)"
   ]
  },
  {
   "cell_type": "code",
   "execution_count": 8,
   "metadata": {},
   "outputs": [],
   "source": [
    "# Create a structure for a single pokemon\n",
    "first_pokemon = {\n",
    "    \"name\" : \"\",\n",
    "    \"abilities\": [],\n",
    "    \"weight\": 0,\n",
    "    \"types\": []\n",
    "\n",
    "}"
   ]
  },
  {
   "cell_type": "code",
   "execution_count": 9,
   "metadata": {},
   "outputs": [
    {
     "name": "stdout",
     "output_type": "stream",
     "text": [
      "{'name': 'ditto', 'abilities': ['limber', 'imposter'], 'weight': 40, 'types': ['normal']}\n"
     ]
    }
   ],
   "source": [
    "ditto = {\n",
    "    'name': name,\n",
    "    'abilities': abilities,\n",
    "    'weight': weight,\n",
    "    'types': types\n",
    "}\n",
    "print(ditto)"
   ]
  },
  {
   "cell_type": "markdown",
   "metadata": {},
   "source": [
    "#### Create a function to Pull in your own Pokemon's data "
   ]
  },
  {
   "cell_type": "code",
   "execution_count": 10,
   "metadata": {},
   "outputs": [
    {
     "data": {
      "text/plain": [
       "{'name': 'bulbasaur',\n",
       " 'abilities': ['overgrow', 'chlorophyll'],\n",
       " 'weight': 69,\n",
       " 'types': ['grass', 'poison']}"
      ]
     },
     "execution_count": 10,
     "metadata": {},
     "output_type": "execute_result"
    }
   ],
   "source": [
    "def poke_api_call(pokemon_name_or_id):\n",
    "    r = requests.get(f\"https://pokeapi.co/api/v2/pokemon/{pokemon_name_or_id}\")\n",
    "    if r.status_code == 200:\n",
    "        data = r.json()\n",
    "        \n",
    "        name = data['name']\n",
    "        types = [pokemon['type']['name'] for pokemon in data['types']]\n",
    "        abilities = [poke['ability']['name'] for poke in data['abilities']]\n",
    "        weight = data['weight']\n",
    "        \n",
    "        pokemon_x = {\n",
    "            \"name\":name,\n",
    "            \"abilities\":abilities,\n",
    "            \"weight\":weight,\n",
    "            \"types\":types\n",
    "        }\n",
    "        return pokemon_x\n",
    "    else:\n",
    "        print(f\"Error Status Code: {r.status_code}\")\n",
    "        \n",
    "squirtle = poke_api_call(\"squirtle\")\n",
    "bulbasaur = poke_api_call(1)\n",
    "bulbasaur\n"
   ]
  },
  {
   "cell_type": "markdown",
   "metadata": {},
   "source": [
    "Choose your pokemon"
   ]
  },
  {
   "cell_type": "code",
   "execution_count": 11,
   "metadata": {},
   "outputs": [],
   "source": [
    "from random import randint\n",
    "# Random number generated for each pokemon id\n",
    "random_team = [randint(1,898) for i in range(6)]\n",
    "\n",
    "your_team = ['electabuzz', 'haunter','tyranitar','blaziken','marowak','dragonair']\n"
   ]
  },
  {
   "cell_type": "markdown",
   "metadata": {},
   "source": [
    "#### Use your function to create a dictionary of your Johto League 6  (favorite 6 pokemon)"
   ]
  },
  {
   "cell_type": "code",
   "execution_count": 12,
   "metadata": {},
   "outputs": [
    {
     "data": {
      "text/plain": [
       "{'zangoose': {'name': 'zangoose',\n",
       "  'abilities': ['immunity', 'toxic-boost'],\n",
       "  'weight': 403,\n",
       "  'types': ['normal']},\n",
       " 'riolu': {'name': 'riolu',\n",
       "  'abilities': ['steadfast', 'inner-focus', 'prankster'],\n",
       "  'weight': 202,\n",
       "  'types': ['fighting']},\n",
       " 'crobat': {'name': 'crobat',\n",
       "  'abilities': ['inner-focus', 'infiltrator'],\n",
       "  'weight': 750,\n",
       "  'types': ['poison', 'flying']},\n",
       " 'delphox': {'name': 'delphox',\n",
       "  'abilities': ['blaze', 'magician'],\n",
       "  'weight': 390,\n",
       "  'types': ['fire', 'psychic']},\n",
       " 'tangrowth': {'name': 'tangrowth',\n",
       "  'abilities': ['chlorophyll', 'leaf-guard', 'regenerator'],\n",
       "  'weight': 1286,\n",
       "  'types': ['grass']},\n",
       " 'cherrim': {'name': 'cherrim',\n",
       "  'abilities': ['flower-gift'],\n",
       "  'weight': 93,\n",
       "  'types': ['grass']}}"
      ]
     },
     "execution_count": 12,
     "metadata": {},
     "output_type": "execute_result"
    }
   ],
   "source": [
    "# Place all 6 of your pokemon on the object below, each pokemon should have at least as much info as Pikachu did.\n",
    "my_six_pokemon = {}\n",
    "for member in random_team:\n",
    "    poke_stats = poke_api_call(member)\n",
    "    my_six_pokemon[poke_stats['name']] = poke_stats\n",
    "\n",
    "my_six_pokemon"
   ]
  },
  {
   "cell_type": "markdown",
   "metadata": {},
   "source": [
    "## Lets create a class called 'Pokemon' and create our pokemon as instances"
   ]
  },
  {
   "cell_type": "code",
   "execution_count": 13,
   "metadata": {},
   "outputs": [],
   "source": [
    "class Pokemon():\n",
    "    def __init__(self,name):\n",
    "        self.name = name\n",
    "        self.types = []\n",
    "        self.abilities = []\n",
    "        self.weight = 0\n",
    "        self.poke_api_call()\n",
    "        \n",
    "    def poke_api_call(self):\n",
    "        r = requests.get(f\"https://pokeapi.co/api/v2/pokemon/{self.name}\")\n",
    "        if r.status_code == 200:\n",
    "            data = r.json()\n",
    "\n",
    "            self.name = data['name']\n",
    "            self.types = [pokemon['type']['name'] for pokemon in data['types']]\n",
    "            self.abilities = [poke['ability']['name'] for poke in data['abilities']]\n",
    "            self.weight = data['weight']\n",
    "\n",
    "        else:\n",
    "            print(f\"Error Status Code: {r.status_code}\")\n",
    "            \n",
    "    # What happens when you print\n",
    "    def __repr__(self):\n",
    "        return f\"You caught a {self.name}!\"\n"
   ]
  },
  {
   "cell_type": "markdown",
   "metadata": {},
   "source": [
    "### Let's Catch some Pokemon"
   ]
  },
  {
   "cell_type": "code",
   "execution_count": 14,
   "metadata": {},
   "outputs": [],
   "source": [
    "import requests"
   ]
  },
  {
   "cell_type": "code",
   "execution_count": 15,
   "metadata": {},
   "outputs": [
    {
     "ename": "NameError",
     "evalue": "name 'Pokemon' is not defined",
     "output_type": "error",
     "traceback": [
      "\u001b[1;31m---------------------------------------------------------------------------\u001b[0m",
      "\u001b[1;31mNameError\u001b[0m                                 Traceback (most recent call last)",
      "\u001b[1;32mc:\\Users\\14043\\Documents\\projects\\week_3\\Day_3\\notebooks\\OOP_&_APIs_Rangers-87.ipynb Cell 27\u001b[0m in \u001b[0;36m<cell line: 1>\u001b[1;34m()\u001b[0m\n\u001b[1;32m----> <a href='vscode-notebook-cell:/c%3A/Users/14043/Documents/projects/week_3/Day_3/notebooks/OOP_%26_APIs_Rangers-87.ipynb#ch0000026?line=0'>1</a>\u001b[0m pickachu \u001b[39m=\u001b[39m Pokemon(\u001b[39m'\u001b[39m\u001b[39mpikachu\u001b[39m\u001b[39m'\u001b[39m)\n\u001b[0;32m      <a href='vscode-notebook-cell:/c%3A/Users/14043/Documents/projects/week_3/Day_3/notebooks/OOP_%26_APIs_Rangers-87.ipynb#ch0000026?line=2'>3</a>\u001b[0m \u001b[39mprint\u001b[39m(pickachu)\n\u001b[0;32m      <a href='vscode-notebook-cell:/c%3A/Users/14043/Documents/projects/week_3/Day_3/notebooks/OOP_%26_APIs_Rangers-87.ipynb#ch0000026?line=3'>4</a>\u001b[0m \u001b[39mprint\u001b[39m(pickachu\u001b[39m.\u001b[39m\u001b[39m__dict__\u001b[39m)\n",
      "\u001b[1;31mNameError\u001b[0m: name 'Pokemon' is not defined"
     ]
    }
   ],
   "source": [
    "\n",
    "pickachu = Pokemon('pikachu')\n",
    "\n",
    "print(pickachu)\n",
    "print(pickachu.__dict__)"
   ]
  },
  {
   "cell_type": "code",
   "execution_count": null,
   "metadata": {},
   "outputs": [
    {
     "ename": "NameError",
     "evalue": "name 'random_team' is not defined",
     "output_type": "error",
     "traceback": [
      "\u001b[1;31m---------------------------------------------------------------------------\u001b[0m",
      "\u001b[1;31mNameError\u001b[0m                                 Traceback (most recent call last)",
      "\u001b[1;32mc:\\Users\\14043\\Documents\\projects\\week_3\\Day_3\\notebooks\\OOP_&_APIs_Rangers-87.ipynb Cell 28'\u001b[0m in \u001b[0;36m<cell line: 2>\u001b[1;34m()\u001b[0m\n\u001b[0;32m      <a href='vscode-notebook-cell:/c%3A/Users/14043/Documents/projects/week_3/Day_3/notebooks/OOP_%26_APIs_Rangers-87.ipynb#ch0000026?line=0'>1</a>\u001b[0m pokedex \u001b[39m=\u001b[39m {}\n\u001b[1;32m----> <a href='vscode-notebook-cell:/c%3A/Users/14043/Documents/projects/week_3/Day_3/notebooks/OOP_%26_APIs_Rangers-87.ipynb#ch0000026?line=1'>2</a>\u001b[0m \u001b[39mfor\u001b[39;00m member \u001b[39min\u001b[39;00m random_team:\n\u001b[0;32m      <a href='vscode-notebook-cell:/c%3A/Users/14043/Documents/projects/week_3/Day_3/notebooks/OOP_%26_APIs_Rangers-87.ipynb#ch0000026?line=2'>3</a>\u001b[0m     pokeball \u001b[39m=\u001b[39m Pokemon(member)\n\u001b[0;32m      <a href='vscode-notebook-cell:/c%3A/Users/14043/Documents/projects/week_3/Day_3/notebooks/OOP_%26_APIs_Rangers-87.ipynb#ch0000026?line=3'>4</a>\u001b[0m     pokedex[member\u001b[39m.\u001b[39mtitle()] \u001b[39m=\u001b[39m pokeball\n",
      "\u001b[1;31mNameError\u001b[0m: name 'random_team' is not defined"
     ]
    }
   ],
   "source": [
    "pokedex = {}\n"
   ]
  },
  {
   "cell_type": "markdown",
   "metadata": {},
   "source": [
    "## Exercise 1:"
   ]
  },
  {
   "cell_type": "markdown",
   "metadata": {},
   "source": [
    "### Create a Method prints an image of your pokemon\n",
    "\n",
    "<p>HINT: You may need another attribute as well to store your image url within. </p>"
   ]
  },
  {
   "cell_type": "code",
   "execution_count": null,
   "metadata": {},
   "outputs": [],
   "source": [
    "# Display an image in Jupyter notebook\n",
    "from IPython.display import Image\n",
    "\n",
    "# display(Image( 'https://i.redd.it/45n4mhusa8l41.jpg', width = 300))\n"
   ]
  },
  {
   "cell_type": "code",
   "execution_count": null,
   "metadata": {},
   "outputs": [],
   "source": [
    "# recreate your pokemon class here\n",
    "class Pokemon(Evolver):\n",
    "    def __init__(self,name):\n",
    "        self.name = name\n",
    "        self.types = []\n",
    "        self.abilities = []\n",
    "        self.weight = 0\n",
    "        self.official_artwork = \"\"\n",
    "        self.id = 0\n",
    "        self.specicies = \"\"\n",
    "        self.moves = \"\"\n",
    "        self.poke_api_call()\n",
    "        \n",
    "    def poke_api_call(self):\n",
    "        r = requests.get(f\"https://pokeapi.co/api/v2/pokemon/{self.name}\")\n",
    "        if r.status_code == 200:\n",
    "            data = r.json()\n",
    "\n",
    "            self.name = data['name']\n",
    "            self.types = [pokemon['type']['name'] for pokemon in data['types']]\n",
    "            self.abilities = [poke['ability']['name'] for poke in data['abilities']]\n",
    "            self.weight = data['weight']\n",
    "            self.official_artwork = data[\"sprites\"]['other']['official-artwork']['front_default']\n",
    "            self.id = data['id']\n",
    "            self.moves = data['moves']['move']\n",
    "\n",
    "        else:\n",
    "            print(f\"Error Status Code: {r.status_code}\")\n",
    "\n",
    "    def poke_image_call(self):\n",
    "        display(Image(self.official_artwork , width = 300))\n",
    "      \n",
    "    # What happens when you print\n",
    "    def __repr__(self):\n",
    "        return f\"You caught a {self.name}!\"\n",
    "\n",
    "    "
   ]
  },
  {
   "cell_type": "code",
   "execution_count": null,
   "metadata": {},
   "outputs": [
    {
     "ename": "TypeError",
     "evalue": "list indices must be integers or slices, not str",
     "output_type": "error",
     "traceback": [
      "\u001b[1;31m---------------------------------------------------------------------------\u001b[0m",
      "\u001b[1;31mTypeError\u001b[0m                                 Traceback (most recent call last)",
      "\u001b[1;32mc:\\Users\\14043\\Documents\\projects\\week_3\\Day_3\\notebooks\\OOP_&_APIs_Rangers-87.ipynb Cell 33'\u001b[0m in \u001b[0;36m<cell line: 1>\u001b[1;34m()\u001b[0m\n\u001b[1;32m----> <a href='vscode-notebook-cell:/c%3A/Users/14043/Documents/projects/week_3/Day_3/notebooks/OOP_%26_APIs_Rangers-87.ipynb#ch0000031?line=0'>1</a>\u001b[0m pickachu \u001b[39m=\u001b[39m Pokemon(\u001b[39m'\u001b[39;49m\u001b[39mpikachu\u001b[39;49m\u001b[39m'\u001b[39;49m)\n\u001b[0;32m      <a href='vscode-notebook-cell:/c%3A/Users/14043/Documents/projects/week_3/Day_3/notebooks/OOP_%26_APIs_Rangers-87.ipynb#ch0000031?line=1'>2</a>\u001b[0m ditto \u001b[39m=\u001b[39m Pokemon(\u001b[39m'\u001b[39m\u001b[39mditto\u001b[39m\u001b[39m'\u001b[39m)\n\u001b[0;32m      <a href='vscode-notebook-cell:/c%3A/Users/14043/Documents/projects/week_3/Day_3/notebooks/OOP_%26_APIs_Rangers-87.ipynb#ch0000031?line=2'>3</a>\u001b[0m ditto\u001b[39m.\u001b[39mpoke_image_call()\n",
      "\u001b[1;32mc:\\Users\\14043\\Documents\\projects\\week_3\\Day_3\\notebooks\\OOP_&_APIs_Rangers-87.ipynb Cell 32'\u001b[0m in \u001b[0;36mPokemon.__init__\u001b[1;34m(self, name)\u001b[0m\n\u001b[0;32m     <a href='vscode-notebook-cell:/c%3A/Users/14043/Documents/projects/week_3/Day_3/notebooks/OOP_%26_APIs_Rangers-87.ipynb#ch0000030?line=9'>10</a>\u001b[0m \u001b[39mself\u001b[39m\u001b[39m.\u001b[39mspecicies \u001b[39m=\u001b[39m \u001b[39m\"\u001b[39m\u001b[39m\"\u001b[39m\n\u001b[0;32m     <a href='vscode-notebook-cell:/c%3A/Users/14043/Documents/projects/week_3/Day_3/notebooks/OOP_%26_APIs_Rangers-87.ipynb#ch0000030?line=10'>11</a>\u001b[0m \u001b[39mself\u001b[39m\u001b[39m.\u001b[39mmoves \u001b[39m=\u001b[39m \u001b[39m\"\u001b[39m\u001b[39m\"\u001b[39m\n\u001b[1;32m---> <a href='vscode-notebook-cell:/c%3A/Users/14043/Documents/projects/week_3/Day_3/notebooks/OOP_%26_APIs_Rangers-87.ipynb#ch0000030?line=11'>12</a>\u001b[0m \u001b[39mself\u001b[39;49m\u001b[39m.\u001b[39;49mpoke_api_call()\n",
      "\u001b[1;32mc:\\Users\\14043\\Documents\\projects\\week_3\\Day_3\\notebooks\\OOP_&_APIs_Rangers-87.ipynb Cell 32'\u001b[0m in \u001b[0;36mPokemon.poke_api_call\u001b[1;34m(self)\u001b[0m\n\u001b[0;32m     <a href='vscode-notebook-cell:/c%3A/Users/14043/Documents/projects/week_3/Day_3/notebooks/OOP_%26_APIs_Rangers-87.ipynb#ch0000030?line=22'>23</a>\u001b[0m     \u001b[39mself\u001b[39m\u001b[39m.\u001b[39mofficial_artwork \u001b[39m=\u001b[39m data[\u001b[39m\"\u001b[39m\u001b[39msprites\u001b[39m\u001b[39m\"\u001b[39m][\u001b[39m'\u001b[39m\u001b[39mother\u001b[39m\u001b[39m'\u001b[39m][\u001b[39m'\u001b[39m\u001b[39mofficial-artwork\u001b[39m\u001b[39m'\u001b[39m][\u001b[39m'\u001b[39m\u001b[39mfront_default\u001b[39m\u001b[39m'\u001b[39m]\n\u001b[0;32m     <a href='vscode-notebook-cell:/c%3A/Users/14043/Documents/projects/week_3/Day_3/notebooks/OOP_%26_APIs_Rangers-87.ipynb#ch0000030?line=23'>24</a>\u001b[0m     \u001b[39mself\u001b[39m\u001b[39m.\u001b[39mid \u001b[39m=\u001b[39m data[\u001b[39m'\u001b[39m\u001b[39mid\u001b[39m\u001b[39m'\u001b[39m]\n\u001b[1;32m---> <a href='vscode-notebook-cell:/c%3A/Users/14043/Documents/projects/week_3/Day_3/notebooks/OOP_%26_APIs_Rangers-87.ipynb#ch0000030?line=24'>25</a>\u001b[0m     \u001b[39mself\u001b[39m\u001b[39m.\u001b[39mmoves \u001b[39m=\u001b[39m data[\u001b[39m'\u001b[39;49m\u001b[39mmoves\u001b[39;49m\u001b[39m'\u001b[39;49m][\u001b[39m'\u001b[39;49m\u001b[39mmove\u001b[39;49m\u001b[39m'\u001b[39;49m]\n\u001b[0;32m     <a href='vscode-notebook-cell:/c%3A/Users/14043/Documents/projects/week_3/Day_3/notebooks/OOP_%26_APIs_Rangers-87.ipynb#ch0000030?line=26'>27</a>\u001b[0m \u001b[39melse\u001b[39;00m:\n\u001b[0;32m     <a href='vscode-notebook-cell:/c%3A/Users/14043/Documents/projects/week_3/Day_3/notebooks/OOP_%26_APIs_Rangers-87.ipynb#ch0000030?line=27'>28</a>\u001b[0m     \u001b[39mprint\u001b[39m(\u001b[39mf\u001b[39m\u001b[39m\"\u001b[39m\u001b[39mError Status Code: \u001b[39m\u001b[39m{\u001b[39;00mr\u001b[39m.\u001b[39mstatus_code\u001b[39m}\u001b[39;00m\u001b[39m\"\u001b[39m)\n",
      "\u001b[1;31mTypeError\u001b[0m: list indices must be integers or slices, not str"
     ]
    }
   ],
   "source": [
    "pickachu = Pokemon('pikachu')\n",
    "ditto = Pokemon('ditto')\n",
    "ditto.poke_image_call()\n"
   ]
  },
  {
   "cell_type": "code",
   "execution_count": null,
   "metadata": {},
   "outputs": [],
   "source": [
    "# Calling our new method\n",
    "from time import sleep\n",
    "\n",
    "class Evolver:\n",
    "    \n",
    "    def evolve(self):\n",
    "        # API call to pokemon-species endpoint\n",
    "        r = requests.get(f'https://pokeapi.co/api/v2/pokemon-species/{self.name}')\n",
    "        if r.status_code != 200:\n",
    "            print(f\"Species Status : {r.status_code}\")\n",
    "            return\n",
    "        else:\n",
    "            pokemon_species = r.json()\n",
    "            \n",
    "        r2 = requests.get(pokemon_species['evolution_chain']['url'])\n",
    "        if r2.status_code != 200:\n",
    "            print(f\"Evolution Chain Error : {r2.status_code}\")\n",
    "            return\n",
    "        else:\n",
    "            ev_chain = r2.json()\n",
    "            ev_chain = ev_chain['chain']\n",
    "            \n",
    "        #First Evolution    \n",
    "        base_name = ev_chain['species']['name']\n",
    "            \n",
    "        evolution = ev_chain[\"evolves_to\"][0]\n",
    "        \n",
    "        #form 2\n",
    "        evolution_name = evolution['species']['name']\n",
    "            \n",
    "        if base_name == self.name:\n",
    "            pass\n",
    "        elif evolution_name == self.name:\n",
    "            evolution_name = evolution['evolves_to'][0]['species']['name']\n",
    "        else:\n",
    "            print(f\"You can't evolve your {self.name} anymore.\")\n",
    "            return\n",
    "        \n",
    "        print(\"......\")\n",
    "        sleep(1)\n",
    "        print(f\"Your {self.name} is evolving?!\")\n",
    "        self.display()\n",
    "        sleep(1)\n",
    "        print(\".........\")\n",
    "        self.name = evolution_name\n",
    "        self.poke_api_call()\n",
    "        self.display()"
   ]
  },
  {
   "cell_type": "markdown",
   "metadata": {},
   "source": [
    "#  Final Exercise: <br> <br>Create a Move_Tutor Class that will allow the Pokemon Class to inherit a move list.\n",
    "<br>\n",
    "<p>for an added bonus you can make sure that if a pokemon has 4 moves the user can choose one of them to replace with a new move. </p>"
   ]
  },
  {
   "cell_type": "code",
   "execution_count": null,
   "metadata": {},
   "outputs": [],
   "source": [
    "class Move_Tutor:\n",
    "\n",
    "    #api call for move list \n",
    "    \n",
    "    def __init__(self):\n",
    "        self.move_list = []\n",
    "    \n",
    "    def teach_move(self):\n",
    "        \n",
    "\n",
    "\n",
    "        move = input(f\"What move would you like to teach {self.name}? \")\n",
    "        if len(self.move_list) <= 4:\n",
    "            self.move_list.append(move)\n",
    "            print(f\"{self.name} learned {move}\")\n",
    "        "
   ]
  },
  {
   "cell_type": "code",
   "execution_count": null,
   "metadata": {},
   "outputs": [],
   "source": []
  },
  {
   "cell_type": "code",
   "execution_count": null,
   "metadata": {},
   "outputs": [
    {
     "name": "stdout",
     "output_type": "stream",
     "text": [
      "What move would you like to teach pikachu? spark\n",
      "pikachu learned spark!\n"
     ]
    }
   ],
   "source": [
    "pikachu.teach_move()\n"
   ]
  },
  {
   "cell_type": "code",
   "execution_count": null,
   "metadata": {},
   "outputs": [
    {
     "name": "stdout",
     "output_type": "stream",
     "text": [
      "pikachu's moves'\n",
      "thunder\n",
      "surf\n",
      "earthquake\n"
     ]
    }
   ],
   "source": [
    "pikachu.show_moves()"
   ]
  }
 ],
 "metadata": {
  "interpreter": {
   "hash": "7ff66e84a478d056964c59e90b1e6cd554bb5dbe8562242d1d162bd0b6725b1c"
  },
  "kernelspec": {
   "display_name": "Python 3.9.12 64-bit",
   "language": "python",
   "name": "python3"
  },
  "language_info": {
   "codemirror_mode": {
    "name": "ipython",
    "version": 3
   },
   "file_extension": ".py",
   "mimetype": "text/x-python",
   "name": "python",
   "nbconvert_exporter": "python",
   "pygments_lexer": "ipython3",
   "version": "3.9.12"
  }
 },
 "nbformat": 4,
 "nbformat_minor": 4
}
